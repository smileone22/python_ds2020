{
 "cells": [
  {
   "cell_type": "code",
   "execution_count": 7,
   "metadata": {},
   "outputs": [],
   "source": [
    "class Node:\n",
    "    def __init__(self, value=None, pointer=None):\n",
    "        self.value = value   # value\n",
    "        self.pointer = pointer "
   ]
  },
  {
   "cell_type": "code",
   "execution_count": null,
   "metadata": {},
   "outputs": [],
   "source": [
    "n1 = Node(\"N1\")\n",
    "n1\n",
    "\n"
   ]
  },
  {
   "cell_type": "code",
   "execution_count": null,
   "metadata": {},
   "outputs": [],
   "source": [
    "\n",
    "n2 = Node(\"N2\")\n",
    "n2"
   ]
  },
  {
   "cell_type": "code",
   "execution_count": null,
   "metadata": {},
   "outputs": [],
   "source": [
    "\n",
    "n1.pointer = n2"
   ]
  },
  {
   "cell_type": "code",
   "execution_count": null,
   "metadata": {},
   "outputs": [],
   "source": [
    "n1.pointer.value"
   ]
  },
  {
   "cell_type": "code",
   "execution_count": 8,
   "metadata": {},
   "outputs": [],
   "source": [
    "class Node:\n",
    "    def __init__(self, value=None, pointer=None):\n",
    "        self.value = value\n",
    "        self.pointer = pointer\n",
    "        \n",
    "    def getData(self):  # reading data\n",
    "        return self.value\n",
    "    \n",
    "    def getNext(self):  # bringing the next node \n",
    "        return self.pointer \n",
    "    \n",
    "    def setData(self, newdata):\n",
    "        self.value = newdata\n",
    "        \n",
    "    def setNext(self, newpointer):\n",
    "        self.pointer = newpointer\n",
    "        \n",
    "    def __repr__(self):\n",
    "        return f\"[{self.value}] -> {self.pointer}\""
   ]
  },
  {
   "cell_type": "code",
   "execution_count": null,
   "metadata": {},
   "outputs": [],
   "source": [
    "n1 = Node(\"N1\")\n",
    "n1"
   ]
  },
  {
   "cell_type": "code",
   "execution_count": null,
   "metadata": {},
   "outputs": [],
   "source": [
    "\n",
    "n2 = Node(\"N2\")\n",
    "n2"
   ]
  },
  {
   "cell_type": "code",
   "execution_count": null,
   "metadata": {},
   "outputs": [],
   "source": [
    "n1.pointer = n2\n",
    "n1"
   ]
  },
  {
   "cell_type": "code",
   "execution_count": null,
   "metadata": {},
   "outputs": [],
   "source": [
    "n3 = Node(\"N3\", n1)\n",
    "n3"
   ]
  },
  {
   "cell_type": "code",
   "execution_count": null,
   "metadata": {},
   "outputs": [],
   "source": [
    "L = Node(\"a\", Node(\"b\", Node(\"c\", Node(\"d\"))))\n",
    "L"
   ]
  },
  {
   "cell_type": "code",
   "execution_count": 9,
   "metadata": {},
   "outputs": [],
   "source": [
    "\n",
    "class LinkedListFIFO:\n",
    "    def __init__(self):\n",
    "        self.head = None   # the first node \n",
    "        self.tail = None   # \n",
    "        self.length = 0    # the length of the list\n",
    "    \n",
    "    # 새 노드 추가하기 (리스트의 끝에 추가)\n",
    "    # tail 이 있다면 tail의 다음 node 에 새 node 추가\n",
    "    def _add(self, value):\n",
    "        self.length += 1    # 노드개수 +1 증가 \n",
    "        node = Node(value)   # 새로이 추가될 노드 생성\n",
    "        if self.tail:\n",
    "            self.tail.pointer = node  # 새 노드가 기존 tail 뒤에 연결\n",
    "        self.tail = node   # tail 은 뒤에 새로 추가도니 새 노드를 가리키게 이동\n",
    "        \n",
    "    def addNode(self, value):\n",
    "        if not self.head:  # 첫번째 추가되는 노드라 head가 None 이었다면..\n",
    "            self.length = 1   # 첫번째 노드다!\n",
    "            node = Node(value)\n",
    "            self.head = node  # 첫번째 노드이기에 head, tail 둘다 새 노드 가리킴 \n",
    "            self.tail = node\n",
    "        else:   # 첫번째 노드가 아닌경우.  (이미 1개 이상의 노드가 있었다면)\n",
    "            self._add(value)\n",
    "        \n",
    "    # head 부터 시작하여 각 node 의 값을 출력하기\n",
    "    def _printList(self):\n",
    "        node = self.head\n",
    "        while node:  # 맨 끝의 node 에 다다를 때까지\n",
    "            print(node.value, end=\" \")\n",
    "            node = node.pointer   # node 를 다음 노드로 이동 \n",
    "        print()\n",
    "        \n",
    "    # 리스트 안의 노드 전부 삭제\n",
    "    def _deleteAll(self):\n",
    "        self.length = 0\n",
    "        self.head = None\n",
    "        self.tail = None\n",
    "        print(\"The linked list is empty\")\n",
    "        \n",
    "    # 인덱스로 노드 찾기\n",
    "    # 못찾으면 None 리턴\n",
    "    def _find(self, index):\n",
    "        node = self.head   # head 부터 찾기 시작\n",
    "        prev = None       # 발견한 노드의 이전 노드.  나중에 삭제/삽입동작에 사용\n",
    "        \n",
    "        i = 0\n",
    "        while node and i < index:\n",
    "            prev = node\n",
    "            node = node.pointer #move to the next node \n",
    "            i += 1\n",
    "            \n",
    "        return node, prev\n",
    "    \n",
    "    # find node with a target value\n",
    "    def _find_by_value(self, value):\n",
    "        prev=None\n",
    "        node=self.head\n",
    "        \n",
    "        while node:\n",
    "            if node.value == value:  #found the target value\n",
    "                break \n",
    "            \n",
    "            prev = node\n",
    "            node = node.pointer # move to the next node \n",
    "        \n",
    "        return node, prev\n",
    "    \n",
    "    \n",
    "    #How to delete a node based on the prev node\n",
    "    def _delete(self,prev,node):\n",
    "        self.length -=1\n",
    "        if prev: # if there is a prev node \n",
    "            prev.pointer=node.pointer\n",
    "        else: # if the node is the head\n",
    "            self.head=node.pointer\n",
    "            \n",
    "    \n",
    "    \n",
    "    #find index node and delete it \n",
    "    def deleteNode(self, index):\n",
    "        node, prev =self._find(index)\n",
    "        \n",
    "        if node: #if you found the index node-> deletion process\n",
    "            self._delete(prev,node)\n",
    "        else: \n",
    "            print(f'There is no node with index of{index}')\n",
    "            \n",
    "            \n",
    "    #How to delete node by using a value\n",
    "    def deleteNodeByValue(self,value):\n",
    "        node,prev = self._find_by_value(value)\n",
    "        if node:\n",
    "            self._delete(prev,node)\n",
    "        else:\n",
    "            print(f'There is no node that has the value of {value}')\n",
    "            \n",
    "#     def print_length(self):\n",
    "#         length=0\n",
    "#         start= self.head\n",
    "#         while start:\n",
    "#             if start== None:\n",
    "#                 break\n",
    "#             else:\n",
    "#                 start=start.pointer\n",
    "#                 length+=1\n",
    "#         return length\n",
    "        \n",
    "    # add a new node with the value in the given index\n",
    "    def insert(self, index, value):\n",
    "        node, prev = self._find(index)\n",
    "        \n",
    "#         if not node:\n",
    "#             print(\"There is no node with such index \")\n",
    "#             retrun\n",
    "        \n",
    "        self.length += 1\n",
    "        newNode = Node(value,node)\n",
    "        \n",
    "        #when inserted to the last part\n",
    "        if not self.tail or self.tail == node:\n",
    "            self.tail = newNode \n",
    "        #when inserted to the first part\n",
    "        if not prev:\n",
    "            self.head=newNode \n",
    "        \n",
    "        #when inserted in the middle\n",
    "        else: \n",
    "            prev.pointer =newNode \n",
    "            #newNode.pointer=prev.pointer "
   ]
  },
  {
   "cell_type": "code",
   "execution_count": 10,
   "metadata": {},
   "outputs": [],
   "source": [
    "ll = LinkedListFIFO()"
   ]
  },
  {
   "cell_type": "code",
   "execution_count": 11,
   "metadata": {},
   "outputs": [
    {
     "data": {
      "text/plain": [
       "9"
      ]
     },
     "execution_count": 11,
     "metadata": {},
     "output_type": "execute_result"
    }
   ],
   "source": [
    "\n",
    "for i in range(1, 10):\n",
    "    ll.addNode(i)\n",
    "    \n",
    "ll.length"
   ]
  },
  {
   "cell_type": "code",
   "execution_count": 12,
   "metadata": {},
   "outputs": [
    {
     "name": "stdout",
     "output_type": "stream",
     "text": [
      "1 2 3 4 5 6 7 8 9 \n"
     ]
    }
   ],
   "source": [
    "ll._printList()"
   ]
  },
  {
   "cell_type": "code",
   "execution_count": null,
   "metadata": {},
   "outputs": [],
   "source": [
    "ll._find(5)"
   ]
  },
  {
   "cell_type": "code",
   "execution_count": null,
   "metadata": {},
   "outputs": [],
   "source": [
    "ll._find(200)"
   ]
  },
  {
   "cell_type": "code",
   "execution_count": null,
   "metadata": {
    "scrolled": false
   },
   "outputs": [],
   "source": [
    "ll._find_by_value(7)"
   ]
  },
  {
   "cell_type": "code",
   "execution_count": null,
   "metadata": {},
   "outputs": [],
   "source": [
    "ll.deleteNode(2)"
   ]
  },
  {
   "cell_type": "code",
   "execution_count": null,
   "metadata": {},
   "outputs": [],
   "source": [
    "ll._printList()"
   ]
  },
  {
   "cell_type": "code",
   "execution_count": null,
   "metadata": {},
   "outputs": [],
   "source": [
    "ll.deleteNodeByValue(10)"
   ]
  },
  {
   "cell_type": "code",
   "execution_count": null,
   "metadata": {},
   "outputs": [],
   "source": [
    "ll.deleteNodeByValue(4)"
   ]
  },
  {
   "cell_type": "code",
   "execution_count": null,
   "metadata": {},
   "outputs": [],
   "source": [
    "ll._find_by_value(4)"
   ]
  },
  {
   "cell_type": "code",
   "execution_count": null,
   "metadata": {},
   "outputs": [],
   "source": [
    "ll._printList()"
   ]
  },
  {
   "cell_type": "code",
   "execution_count": null,
   "metadata": {},
   "outputs": [],
   "source": [
    "ll.print_length()"
   ]
  },
  {
   "cell_type": "code",
   "execution_count": 20,
   "metadata": {},
   "outputs": [
    {
     "name": "stdout",
     "output_type": "stream",
     "text": [
      "500 1 2 3 4 5 6 7 8 500 500 500 9 \n"
     ]
    }
   ],
   "source": [
    "ll.insert(11,500)\n",
    "ll._printList()"
   ]
  },
  {
   "cell_type": "code",
   "execution_count": null,
   "metadata": {},
   "outputs": [],
   "source": []
  },
  {
   "cell_type": "code",
   "execution_count": null,
   "metadata": {},
   "outputs": [],
   "source": []
  }
 ],
 "metadata": {
  "kernelspec": {
   "display_name": "Python 3",
   "language": "python",
   "name": "python3"
  },
  "language_info": {
   "codemirror_mode": {
    "name": "ipython",
    "version": 3
   },
   "file_extension": ".py",
   "mimetype": "text/x-python",
   "name": "python",
   "nbconvert_exporter": "python",
   "pygments_lexer": "ipython3",
   "version": "3.7.4"
  }
 },
 "nbformat": 4,
 "nbformat_minor": 2
}
