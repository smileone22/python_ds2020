{
 "cells": [
  {
   "cell_type": "markdown",
   "metadata": {},
   "source": [
    "# Queue\n",
    "1. data gets out in the order of where queue starts\n",
    "2. `FIFO` , First-In First-Out \n",
    "    The first data gets out first\n",
    "<img src=\"https://miro.medium.com/proxy/0*TRbfsq86lqDoqW6b.png\" style=\"float:left; width:450px; height:auto\">\n"
   ]
  },
  {
   "cell_type": "markdown",
   "metadata": {},
   "source": [
    "## Queue \n",
    "<img src=\"https://amudabadmus.files.wordpress.com/2017/04/queue-2012-12-11.jpg?w=800\" style=\"float:left; width:400px; height:auto\">\n",
    "\n"
   ]
  },
  {
   "cell_type": "markdown",
   "metadata": {},
   "source": [
    "## queue ADT (abstract data type) \n",
    "actions of queue\n",
    "- `enqueue` : data gets in at the back \n",
    "- `dequeue` : return the first data in the queue and remove it from the queue\n",
    "- `peek/front` : see what is in the front of the queue\n",
    "- `empty` : check if queue is empty \n",
    "- `size` : check the size of the queue / how many elements inside \n",
    "\n"
   ]
  },
  {
   "cell_type": "markdown",
   "metadata": {},
   "source": [
    "## Queue using node"
   ]
  },
  {
   "cell_type": "code",
   "execution_count": 9,
   "metadata": {},
   "outputs": [],
   "source": [
    "class Node:\n",
    "    def __init__(self, value=None, pointer=None):\n",
    "        self.value = value   # value\n",
    "        self.pointer = pointer  #pointer for next value"
   ]
  },
  {
   "cell_type": "code",
   "execution_count": 16,
   "metadata": {},
   "outputs": [],
   "source": [
    "class LinkedQueue:\n",
    "    def __init__(self):\n",
    "        self.front =None #where the data gets out \n",
    "        self.back =None # where the data gets in \n",
    "        self.size =0 \n",
    "        \n",
    "    def isEmpty(self):\n",
    "        return not bool(self.front)\n",
    "    \n",
    "    def enqueue(self,value):\n",
    "        newNode =Node(value)\n",
    "        if not self.front: #if there is no data and enqueue is the first data \n",
    "            self.front =newNode\n",
    "            self.back = newNode \n",
    "            self.size =1\n",
    "        else: #adding data to the queue at the back\n",
    "            if self.back:\n",
    "                self.back.pointer=newNode \n",
    "            \n",
    "            self.back = newNode \n",
    "            self.size +=1\n",
    "    \n",
    "    def dequeue(self):\n",
    "        if self.front: #front node gets dequeued\n",
    "            value = self.front.value\n",
    "            self.front = self.front.pointer #front moves\n",
    "            self.size-=1\n",
    "            return value \n",
    "            \n",
    "        else:\n",
    "            print(\"Queue is empty\")\n",
    "            \n",
    "    def peek(self):\n",
    "        if self.front:\n",
    "            return self.front.value\n",
    "    \n",
    "    def _print(self):\n",
    "        node=self.front\n",
    "        while node:\n",
    "            print(node.value, end=\" \")\n",
    "            node=node.pointer\n",
    "        \n",
    "        print()"
   ]
  },
  {
   "cell_type": "code",
   "execution_count": 20,
   "metadata": {
    "scrolled": true
   },
   "outputs": [
    {
     "name": "stdout",
     "output_type": "stream",
     "text": [
      "is queue empty? True\n",
      "0 1 2 3 4 5 6 7 8 9 \n",
      "current queue size: 10\n",
      "peek(): 0\n",
      "dequeue(): 0\n",
      "dequeue(): 1\n",
      "dequeue(): 2\n",
      "dequeue(): 3\n",
      "current queue size: 6\n"
     ]
    }
   ],
   "source": [
    "queue =  LinkedQueue()\n",
    "\n",
    "print(\"is queue empty?\",queue.isEmpty())\n",
    "\n",
    "for i in range(10):\n",
    "    queue.enqueue(i)\n",
    "    \n",
    "queue._print()\n",
    "print(\"current queue size:\",queue.size)\n",
    "print(\"peek():\",queue.peek())\n",
    "print(\"dequeue():\",queue.dequeue())\n",
    "print(\"dequeue():\",queue.dequeue())\n",
    "print(\"dequeue():\",queue.dequeue())\n",
    "print(\"dequeue():\",queue.dequeue())\n",
    "print(\"current queue size:\",queue.size)"
   ]
  },
  {
   "cell_type": "markdown",
   "metadata": {},
   "source": [
    "# Queue using list "
   ]
  },
  {
   "cell_type": "code",
   "execution_count": 21,
   "metadata": {},
   "outputs": [],
   "source": [
    "class Queue:\n",
    "    def __init__(self):\n",
    "        self.items=[] #queue using list\n",
    "    \n",
    "    \n",
    "    def isEmpty(self):\n",
    "        return not bool(self.items)\n",
    "    \n",
    "    def enqueue(self,value):\n",
    "        self.items.insert(0,value)\n",
    "        \n",
    "    def dequeue(self):\n",
    "        val=self.items.pop()\n",
    "        if val is not None:\n",
    "            return val\n",
    "        else: \n",
    "            print(\"Queue is empty\")\n",
    "            \n",
    "    def peek(self):\n",
    "        if self.items:\n",
    "            return self.items[-1]\n",
    "        else:\n",
    "            print(\"Queue is empty\")\n",
    "    \n",
    "    def _print(self):\n",
    "        print(self.items[::-1])\n",
    "    \n",
    "    def size(self):\n",
    "        return len(self.items)"
   ]
  },
  {
   "cell_type": "code",
   "execution_count": 23,
   "metadata": {},
   "outputs": [
    {
     "name": "stdout",
     "output_type": "stream",
     "text": [
      "is queue empty? True\n",
      "[0, 1, 2, 3, 4, 5, 6, 7, 8, 9]\n",
      "current queue size: 10\n",
      "peek(): 0\n",
      "dequeue(): 0\n",
      "dequeue(): 1\n",
      "dequeue(): 2\n",
      "dequeue(): 3\n",
      "current queue size: 6\n"
     ]
    }
   ],
   "source": [
    "queue =  Queue()\n",
    "\n",
    "print(\"is queue empty?\",queue.isEmpty())\n",
    "\n",
    "for i in range(10):\n",
    "    queue.enqueue(i)\n",
    "    \n",
    "queue._print()\n",
    "print(\"current queue size:\",queue.size())\n",
    "print(\"peek():\",queue.peek())\n",
    "print(\"dequeue():\",queue.dequeue())\n",
    "print(\"dequeue():\",queue.dequeue())\n",
    "print(\"dequeue():\",queue.dequeue())\n",
    "print(\"dequeue():\",queue.dequeue())\n",
    "print(\"current queue size:\",queue.size())"
   ]
  },
  {
   "cell_type": "code",
   "execution_count": null,
   "metadata": {},
   "outputs": [],
   "source": []
  },
  {
   "cell_type": "code",
   "execution_count": null,
   "metadata": {},
   "outputs": [],
   "source": []
  },
  {
   "cell_type": "code",
   "execution_count": null,
   "metadata": {},
   "outputs": [],
   "source": []
  },
  {
   "cell_type": "code",
   "execution_count": null,
   "metadata": {},
   "outputs": [],
   "source": []
  },
  {
   "cell_type": "code",
   "execution_count": null,
   "metadata": {},
   "outputs": [],
   "source": []
  },
  {
   "cell_type": "code",
   "execution_count": null,
   "metadata": {},
   "outputs": [],
   "source": []
  },
  {
   "cell_type": "code",
   "execution_count": null,
   "metadata": {},
   "outputs": [],
   "source": []
  },
  {
   "cell_type": "code",
   "execution_count": null,
   "metadata": {},
   "outputs": [],
   "source": []
  },
  {
   "cell_type": "code",
   "execution_count": null,
   "metadata": {},
   "outputs": [],
   "source": []
  },
  {
   "cell_type": "code",
   "execution_count": null,
   "metadata": {},
   "outputs": [],
   "source": []
  },
  {
   "cell_type": "code",
   "execution_count": null,
   "metadata": {},
   "outputs": [],
   "source": []
  }
 ],
 "metadata": {
  "kernelspec": {
   "display_name": "Python 3",
   "language": "python",
   "name": "python3"
  },
  "language_info": {
   "codemirror_mode": {
    "name": "ipython",
    "version": 3
   },
   "file_extension": ".py",
   "mimetype": "text/x-python",
   "name": "python",
   "nbconvert_exporter": "python",
   "pygments_lexer": "ipython3",
   "version": "3.7.4"
  }
 },
 "nbformat": 4,
 "nbformat_minor": 2
}
