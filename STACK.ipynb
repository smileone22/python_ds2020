{
 "cells": [
  {
   "cell_type": "markdown",
   "metadata": {},
   "source": [
    "# STACK "
   ]
  },
  {
   "cell_type": "markdown",
   "metadata": {},
   "source": [
    "1. stack is a structure that can only access data from the upper/last part \n",
    "2. `LIFO`  Last-In  Fitst-Out, `FILO` (Fisrt-In Last-Out) \n",
    "    The data \n",
    "    - The first data that got added in the structure gets out last\n",
    "\n"
   ]
  },
  {
   "cell_type": "markdown",
   "metadata": {},
   "source": [
    "<img src=\"https://wayhome25.github.io/assets/post-img/cs/stack.jpg\">"
   ]
  },
  {
   "cell_type": "markdown",
   "metadata": {},
   "source": [
    "### 일상에서의 스택\n",
    "![스택](https://qph.fs.quoracdn.net/main-qimg-abf0634496b7412bef7f857f9457b003.webp)\n",
    "![스택](https://lifeindatastructures.files.wordpress.com/2017/10/22.jpg?w=610&h=&crop=1&zoom=2)\n"
   ]
  },
  {
   "cell_type": "markdown",
   "metadata": {},
   "source": [
    "##  ADT (ABSTRACT DATA TYPE) of STACK\n",
    "Actions on stack\n",
    "- `push` : add data to the top of the stack\n",
    "- `pop` : return data at the top of the stack and remove it from the stack  \n",
    "- `peek/top` : peek data at the top of the stack without removing the top item\n",
    "- `empty` : check if stack is empty\n",
    "- `size` : check the size of the stack\n",
    "\n",
    "> Both 'data' and 'item' can be used to describe the elements in stack \n"
   ]
  },
  {
   "cell_type": "markdown",
   "metadata": {},
   "source": [
    "# stack demo1, using list\n",
    "append(),pop() "
   ]
  },
  {
   "cell_type": "markdown",
   "metadata": {},
   "source": [
    "# stack demo1, using list\n",
    "using node "
   ]
  },
  {
   "cell_type": "code",
   "execution_count": 12,
   "metadata": {},
   "outputs": [],
   "source": [
    "class Node:\n",
    "    def __init__(self, value=None, pointer=None):\n",
    "        self.value = value   # value\n",
    "        self.pointer = pointer  #pointer for next value"
   ]
  },
  {
   "cell_type": "code",
   "execution_count": 15,
   "metadata": {},
   "outputs": [],
   "source": [
    "class Stack:\n",
    "    def __init__(self):\n",
    "        self.top=None #top of the stack- the data that is pushed lastly\n",
    "        self.size=0 #stack size \n",
    "        \n",
    "    def isEmpty(self): #check if the stack is empty, returns T if empty\n",
    "        return not bool(self.top)\n",
    "    \n",
    "    def push(self,item):\n",
    "        self.top = Node(item,self.top) #create a new node and move it to the top \n",
    "        self.size+=1  #increase the stack size by 1 due to pushing\n",
    "        \n",
    "    def pop(self): #return the data at the top (remove it from the stack)\n",
    "        if self.size>0 and self.top:\n",
    "            node = self. top\n",
    "            self.top = node.pointer #move top to below \n",
    "            self.size -=1 \n",
    "            return node.value\n",
    "        else:\n",
    "            print(\"The stack is empty\")\n",
    "            \n",
    "    def peek(self):#return the data at the top (DOES NOT remove it from the stack)\n",
    "        if self.size>0 and self.top:\n",
    "            node = self. top\n",
    "            return node.value\n",
    "        else:\n",
    "            print(\"The stack is empty\") \n",
    "            \n",
    "    def _printList(self):\n",
    "        node =self.top\n",
    "        while node:\n",
    "            print(node.value, end=\" \")\n",
    "            node = node. pointer\n",
    "        print()"
   ]
  },
  {
   "cell_type": "code",
   "execution_count": 5,
   "metadata": {
    "scrolled": true
   },
   "outputs": [
    {
     "data": {
      "text/plain": [
       "(True, False, False, True)"
      ]
     },
     "execution_count": 5,
     "metadata": {},
     "output_type": "execute_result"
    }
   ],
   "source": [
    "bool(100),bool(0),bool([]),bool([10,20,30]) #Remember what bool does "
   ]
  },
  {
   "cell_type": "code",
   "execution_count": 29,
   "metadata": {
    "scrolled": true
   },
   "outputs": [
    {
     "name": "stdout",
     "output_type": "stream",
     "text": [
      "Is stack empty? True\n",
      "9 8 7 6 5 4 3 2 1 0 \n",
      "Current stack size 10\n",
      "peek() 9\n",
      "pop() 9\n",
      "Current stack size 9\n",
      "pop() 8\n",
      "pop() 7\n",
      "6 5 4 3 2 1 0 \n",
      "pop() 6\n",
      "pop() 5\n",
      "pop() 4\n",
      "pop() 3\n",
      "pop() 2\n",
      "pop() 1\n",
      "pop() 0\n"
     ]
    }
   ],
   "source": [
    "stack = Stack()\n",
    "\n",
    "print(\"Is stack empty?\",stack.isEmpty())\n",
    "\n",
    "for i in range(10):\n",
    "    stack.push(i)\n",
    "\n",
    "stack._printList()\n",
    "\n",
    "\n",
    "print('Current stack size',stack.size)\n",
    "\n",
    "print('peek()',stack.peek())\n",
    "print('pop()',stack.pop())\n",
    "print('Current stack size',stack.size)\n",
    "print('pop()',stack.pop())\n",
    "print('pop()',stack.pop())\n",
    "stack._printList()\n",
    "\n",
    "while stack.size:\n",
    "    data=stack.pop()\n",
    "    print('pop()',data)\n",
    "            "
   ]
  }
 ],
 "metadata": {
  "kernelspec": {
   "display_name": "Python 3",
   "language": "python",
   "name": "python3"
  },
  "language_info": {
   "codemirror_mode": {
    "name": "ipython",
    "version": 3
   },
   "file_extension": ".py",
   "mimetype": "text/x-python",
   "name": "python",
   "nbconvert_exporter": "python",
   "pygments_lexer": "ipython3",
   "version": "3.7.4"
  }
 },
 "nbformat": 4,
 "nbformat_minor": 2
}
